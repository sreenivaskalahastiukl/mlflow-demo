{
 "cells": [
  {
   "cell_type": "markdown",
   "id": "00166693",
   "metadata": {
    "id": "00166693"
   },
   "source": [
    "#### In this Video We will Cover\n",
    "- PySpark Dataframe\n",
    "- Reading The Dataset\n",
    "- Checking the Datatypes of the Column(Schema)\n",
    "- Selecting Columns And Indexing\n",
    "- Check Describe option similar to Pandas\n",
    "- Adding Columns\n",
    "- Dropping columns\n",
    "- Renaming Columns"
   ]
  },
  {
   "cell_type": "code",
   "execution_count": 1,
   "id": "fb37d003",
   "metadata": {
    "colab": {
     "base_uri": "https://localhost:8080/"
    },
    "id": "fb37d003",
    "outputId": "a156aab9-cfac-4572-9f49-e8e10e5042e6"
   },
   "outputs": [
    {
     "name": "stdout",
     "output_type": "stream",
     "text": [
      "Collecting pyspark\n",
      "  Downloading pyspark-3.5.1.tar.gz (317.0 MB)\n",
      "\u001b[2K     \u001b[90m━━━━━━━━━━━━━━━━━━━━━━━━━━━━━━━━━━━━━━━━\u001b[0m \u001b[32m317.0/317.0 MB\u001b[0m \u001b[31m676.7 kB/s\u001b[0m eta \u001b[36m0:00:00\u001b[0m\n",
      "\u001b[?25h  Preparing metadata (setup.py) ... \u001b[?25l\u001b[?25hdone\n",
      "Requirement already satisfied: py4j==0.10.9.7 in /usr/local/lib/python3.10/dist-packages (from pyspark) (0.10.9.7)\n",
      "Building wheels for collected packages: pyspark\n",
      "  Building wheel for pyspark (setup.py) ... \u001b[?25l\u001b[?25hdone\n",
      "  Created wheel for pyspark: filename=pyspark-3.5.1-py2.py3-none-any.whl size=317488491 sha256=a7236be7dc46e3644620cb9f7af19f8207c61fbf26a974f0da4ddf792f4f6189\n",
      "  Stored in directory: /root/.cache/pip/wheels/80/1d/60/2c256ed38dddce2fdd93be545214a63e02fbd8d74fb0b7f3a6\n",
      "Successfully built pyspark\n",
      "Installing collected packages: pyspark\n",
      "Successfully installed pyspark-3.5.1\n"
     ]
    }
   ],
   "source": [
    "!pip install pyspark"
   ]
  },
  {
   "cell_type": "code",
   "execution_count": 2,
   "id": "8kJy5y4eMh5A",
   "metadata": {
    "id": "8kJy5y4eMh5A"
   },
   "outputs": [],
   "source": [
    "from pyspark.sql import SparkSession"
   ]
  },
  {
   "cell_type": "code",
   "execution_count": 3,
   "id": "a1d46445",
   "metadata": {
    "id": "a1d46445"
   },
   "outputs": [],
   "source": [
    "spark=SparkSession.builder.appName('Dataframes').getOrCreate()"
   ]
  },
  {
   "cell_type": "code",
   "execution_count": 4,
   "id": "078fccba",
   "metadata": {
    "colab": {
     "base_uri": "https://localhost:8080/",
     "height": 219
    },
    "id": "078fccba",
    "outputId": "4dbcb67b-098f-4c50-fa92-46dc23fc71d9"
   },
   "outputs": [
    {
     "data": {
      "text/html": [
       "\n",
       "            <div>\n",
       "                <p><b>SparkSession - in-memory</b></p>\n",
       "                \n",
       "        <div>\n",
       "            <p><b>SparkContext</b></p>\n",
       "\n",
       "            <p><a href=\"http://8620af90d1f5:4040\">Spark UI</a></p>\n",
       "\n",
       "            <dl>\n",
       "              <dt>Version</dt>\n",
       "                <dd><code>v3.5.1</code></dd>\n",
       "              <dt>Master</dt>\n",
       "                <dd><code>local[*]</code></dd>\n",
       "              <dt>AppName</dt>\n",
       "                <dd><code>Dataframes</code></dd>\n",
       "            </dl>\n",
       "        </div>\n",
       "        \n",
       "            </div>\n",
       "        "
      ],
      "text/plain": [
       "<pyspark.sql.session.SparkSession at 0x7c164b72dcf0>"
      ]
     },
     "execution_count": 4,
     "metadata": {},
     "output_type": "execute_result"
    }
   ],
   "source": [
    "spark"
   ]
  },
  {
   "cell_type": "code",
   "execution_count": 5,
   "id": "KeK_Ujwcphp3",
   "metadata": {
    "id": "KeK_Ujwcphp3"
   },
   "outputs": [],
   "source": [
    "new=spark.sparkContext.textFile( \"/content/sample_data/users.csv\" ) \\\n",
    ".map( lambda x: (x.split(\"|\")[2], 1) ) \\\n",
    ".reduceByKey(lambda x,y:x+y).collect()"
   ]
  },
  {
   "cell_type": "code",
   "execution_count": 6,
   "id": "EBsz1cSGqyXf",
   "metadata": {
    "colab": {
     "base_uri": "https://localhost:8080/"
    },
    "id": "EBsz1cSGqyXf",
    "outputId": "65741513-4d21-4a52-b5e4-c30102901efe"
   },
   "outputs": [
    {
     "data": {
      "text/plain": [
       "[('gender', 1), ('M', 6), ('F', 2)]"
      ]
     },
     "execution_count": 6,
     "metadata": {},
     "output_type": "execute_result"
    }
   ],
   "source": [
    "new"
   ]
  },
  {
   "cell_type": "code",
   "execution_count": 7,
   "id": "Wl6pU7lAvZv8",
   "metadata": {
    "id": "Wl6pU7lAvZv8"
   },
   "outputs": [],
   "source": [
    "from pyspark import SparkContext\n",
    "from pyspark.sql import SparkSession"
   ]
  },
  {
   "cell_type": "code",
   "execution_count": 11,
   "id": "X0M6mHyFvgKH",
   "metadata": {
    "id": "X0M6mHyFvgKH"
   },
   "outputs": [],
   "source": [
    "df_pyspark=spark.read.csv('/content/sample_data/users.csv',inferSchema=True)"
   ]
  },
  {
   "cell_type": "code",
   "execution_count": 12,
   "id": "TqaB-AmlwRqP",
   "metadata": {
    "colab": {
     "base_uri": "https://localhost:8080/"
    },
    "id": "TqaB-AmlwRqP",
    "outputId": "15c71bf8-f915-44ad-91fd-771d11691b95"
   },
   "outputs": [
    {
     "data": {
      "text/plain": [
       "DataFrame[_c0: string]"
      ]
     },
     "execution_count": 12,
     "metadata": {},
     "output_type": "execute_result"
    }
   ],
   "source": [
    "df_pyspark"
   ]
  },
  {
   "cell_type": "code",
   "execution_count": 15,
   "id": "b7b4a628",
   "metadata": {
    "id": "b7b4a628"
   },
   "outputs": [],
   "source": [
    "## read the dataset\n",
    "df_pyspark=spark.read.csv('/content/sample_data/tips.csv',inferSchema=True)"
   ]
  },
  {
   "cell_type": "code",
   "execution_count": 16,
   "id": "i3TWZ5Glc6LC",
   "metadata": {
    "colab": {
     "base_uri": "https://localhost:8080/"
    },
    "id": "i3TWZ5Glc6LC",
    "outputId": "6966469a-46fc-4704-9e30-a4d85b531fe5"
   },
   "outputs": [
    {
     "name": "stdout",
     "output_type": "stream",
     "text": [
      "+----------+----+------+------+---+------+----+\n",
      "|       _c0| _c1|   _c2|   _c3|_c4|   _c5| _c6|\n",
      "+----------+----+------+------+---+------+----+\n",
      "|total_bill| tip|   sex|smoker|day|  time|size|\n",
      "|     16.99|1.01|Female|    No|Sun|Dinner|   2|\n",
      "|     10.34|1.66|  Male|    No|Sun|Dinner|   3|\n",
      "|     21.01| 3.5|  Male|    No|Sun|Dinner|   3|\n",
      "|     23.68|3.31|  Male|    No|Sun|Dinner|   2|\n",
      "|     24.59|3.61|Female|    No|Sun|Dinner|   4|\n",
      "|     25.29|4.71|  Male|    No|Sun|Dinner|   4|\n",
      "|      8.77| 2.0|  Male|    No|Sun|Dinner|   2|\n",
      "|     26.88|3.12|  Male|    No|Sun|Dinner|   4|\n",
      "|     15.04|1.96|  Male|    No|Sun|Dinner|   2|\n",
      "|     14.78|3.23|  Male|    No|Sun|Dinner|   2|\n",
      "|     10.27|1.71|  Male|    No|Sun|Dinner|   2|\n",
      "|     35.26| 5.0|Female|    No|Sun|Dinner|   4|\n",
      "|     15.42|1.57|  Male|    No|Sun|Dinner|   2|\n",
      "|     18.43| 3.0|  Male|    No|Sun|Dinner|   4|\n",
      "|     14.83|3.02|Female|    No|Sun|Dinner|   2|\n",
      "|     21.58|3.92|  Male|    No|Sun|Dinner|   2|\n",
      "|     10.33|1.67|Female|    No|Sun|Dinner|   3|\n",
      "|     16.29|3.71|  Male|    No|Sun|Dinner|   3|\n",
      "|     16.97| 3.5|Female|    No|Sun|Dinner|   3|\n",
      "+----------+----+------+------+---+------+----+\n",
      "only showing top 20 rows\n",
      "\n"
     ]
    }
   ],
   "source": [
    "df_pyspark.show()"
   ]
  },
  {
   "cell_type": "code",
   "execution_count": 17,
   "id": "Uny1xsytcnVo",
   "metadata": {
    "id": "Uny1xsytcnVo"
   },
   "outputs": [],
   "source": [
    "df_pyspark=spark.read.option('header','true').csv('/content/sample_data/tips.csv',inferSchema=True)"
   ]
  },
  {
   "cell_type": "code",
   "execution_count": 18,
   "id": "5KjaFqUpdQVs",
   "metadata": {
    "colab": {
     "base_uri": "https://localhost:8080/"
    },
    "id": "5KjaFqUpdQVs",
    "outputId": "b07f6097-b3de-41df-fe14-bd1d390a8ebf"
   },
   "outputs": [
    {
     "name": "stdout",
     "output_type": "stream",
     "text": [
      "+----------+----+------+------+---+------+----+\n",
      "|total_bill| tip|   sex|smoker|day|  time|size|\n",
      "+----------+----+------+------+---+------+----+\n",
      "|     16.99|1.01|Female|    No|Sun|Dinner|   2|\n",
      "|     10.34|1.66|  Male|    No|Sun|Dinner|   3|\n",
      "|     21.01| 3.5|  Male|    No|Sun|Dinner|   3|\n",
      "|     23.68|3.31|  Male|    No|Sun|Dinner|   2|\n",
      "|     24.59|3.61|Female|    No|Sun|Dinner|   4|\n",
      "|     25.29|4.71|  Male|    No|Sun|Dinner|   4|\n",
      "|      8.77| 2.0|  Male|    No|Sun|Dinner|   2|\n",
      "|     26.88|3.12|  Male|    No|Sun|Dinner|   4|\n",
      "|     15.04|1.96|  Male|    No|Sun|Dinner|   2|\n",
      "|     14.78|3.23|  Male|    No|Sun|Dinner|   2|\n",
      "+----------+----+------+------+---+------+----+\n",
      "only showing top 10 rows\n",
      "\n"
     ]
    }
   ],
   "source": [
    "df_pyspark.show(10)"
   ]
  },
  {
   "cell_type": "code",
   "execution_count": null,
   "id": "UTShcknTDdtx",
   "metadata": {
    "colab": {
     "base_uri": "https://localhost:8080/",
     "height": 186
    },
    "id": "UTShcknTDdtx",
    "outputId": "a0ac14cb-f8a3-4596-d74c-486216c2bb2f"
   },
   "outputs": [
    {
     "data": {
      "text/html": [
       "<div style=\"max-width:800px; border: 1px solid var(--colab-border-color);\"><style>\n",
       "      pre.function-repr-contents {\n",
       "        overflow-x: auto;\n",
       "        padding: 8px 12px;\n",
       "        max-height: 500px;\n",
       "      }\n",
       "\n",
       "      pre.function-repr-contents.function-repr-contents-collapsed {\n",
       "        cursor: pointer;\n",
       "        max-height: 100px;\n",
       "      }\n",
       "    </style>\n",
       "    <pre style=\"white-space: initial; background:\n",
       "         var(--colab-secondary-surface-color); padding: 8px 12px;\n",
       "         border-bottom: 1px solid var(--colab-border-color);\"><b>pyspark.sql.dataframe.DataFrame</b><br/>def __init__(jdf: JavaObject, sql_ctx: Union[&#x27;SQLContext&#x27;, &#x27;SparkSession&#x27;])</pre><pre class=\"function-repr-contents function-repr-contents-collapsed\" style=\"\"><a class=\"filepath\" style=\"display:none\" href=\"#\">/usr/local/lib/python3.10/dist-packages/pyspark/sql/dataframe.py</a>A distributed collection of data grouped into named columns.\n",
       "\n",
       ".. versionadded:: 1.3.0\n",
       "\n",
       ".. versionchanged:: 3.4.0\n",
       "    Supports Spark Connect.\n",
       "\n",
       "Examples\n",
       "--------\n",
       "A :class:`DataFrame` is equivalent to a relational table in Spark SQL,\n",
       "and can be created using various functions in :class:`SparkSession`:\n",
       "\n",
       "&gt;&gt;&gt; people = spark.createDataFrame([\n",
       "...     {&quot;deptId&quot;: 1, &quot;age&quot;: 40, &quot;name&quot;: &quot;Hyukjin Kwon&quot;, &quot;gender&quot;: &quot;M&quot;, &quot;salary&quot;: 50},\n",
       "...     {&quot;deptId&quot;: 1, &quot;age&quot;: 50, &quot;name&quot;: &quot;Takuya Ueshin&quot;, &quot;gender&quot;: &quot;M&quot;, &quot;salary&quot;: 100},\n",
       "...     {&quot;deptId&quot;: 2, &quot;age&quot;: 60, &quot;name&quot;: &quot;Xinrong Meng&quot;, &quot;gender&quot;: &quot;F&quot;, &quot;salary&quot;: 150},\n",
       "...     {&quot;deptId&quot;: 3, &quot;age&quot;: 20, &quot;name&quot;: &quot;Haejoon Lee&quot;, &quot;gender&quot;: &quot;M&quot;, &quot;salary&quot;: 200}\n",
       "... ])\n",
       "\n",
       "Once created, it can be manipulated using the various domain-specific-language\n",
       "(DSL) functions defined in: :class:`DataFrame`, :class:`Column`.\n",
       "\n",
       "To select a column from the :class:`DataFrame`, use the apply method:\n",
       "\n",
       "&gt;&gt;&gt; age_col = people.age\n",
       "\n",
       "A more concrete example:\n",
       "\n",
       "&gt;&gt;&gt; # To create DataFrame using SparkSession\n",
       "... department = spark.createDataFrame([\n",
       "...     {&quot;id&quot;: 1, &quot;name&quot;: &quot;PySpark&quot;},\n",
       "...     {&quot;id&quot;: 2, &quot;name&quot;: &quot;ML&quot;},\n",
       "...     {&quot;id&quot;: 3, &quot;name&quot;: &quot;Spark SQL&quot;}\n",
       "... ])\n",
       "\n",
       "&gt;&gt;&gt; people.filter(people.age &gt; 30).join(\n",
       "...     department, people.deptId == department.id).groupBy(\n",
       "...     department.name, &quot;gender&quot;).agg({&quot;salary&quot;: &quot;avg&quot;, &quot;age&quot;: &quot;max&quot;}).show()\n",
       "+-------+------+-----------+--------+\n",
       "|   name|gender|avg(salary)|max(age)|\n",
       "+-------+------+-----------+--------+\n",
       "|     ML|     F|      150.0|      60|\n",
       "|PySpark|     M|       75.0|      50|\n",
       "+-------+------+-----------+--------+\n",
       "\n",
       "Notes\n",
       "-----\n",
       "A DataFrame should only be created as described above. It should not be directly\n",
       "created via using the constructor.</pre>\n",
       "      <script>\n",
       "      if (google.colab.kernel.accessAllowed && google.colab.files && google.colab.files.view) {\n",
       "        for (const element of document.querySelectorAll('.filepath')) {\n",
       "          element.style.display = 'block'\n",
       "          element.onclick = (event) => {\n",
       "            event.preventDefault();\n",
       "            event.stopPropagation();\n",
       "            google.colab.files.view(element.textContent, 80);\n",
       "          };\n",
       "        }\n",
       "      }\n",
       "      for (const element of document.querySelectorAll('.function-repr-contents')) {\n",
       "        element.onclick = (event) => {\n",
       "          event.preventDefault();\n",
       "          event.stopPropagation();\n",
       "          element.classList.toggle('function-repr-contents-collapsed');\n",
       "        };\n",
       "      }\n",
       "      </script>\n",
       "      </div>"
      ],
      "text/plain": [
       "pyspark.sql.dataframe.DataFrame"
      ]
     },
     "execution_count": 8,
     "metadata": {},
     "output_type": "execute_result"
    }
   ],
   "source": [
    "type(df_pyspark)"
   ]
  },
  {
   "cell_type": "code",
   "execution_count": null,
   "id": "79a95903",
   "metadata": {
    "colab": {
     "base_uri": "https://localhost:8080/"
    },
    "id": "79a95903",
    "outputId": "08bec635-127a-4403-d9e8-90bd05ed5ea1"
   },
   "outputs": [
    {
     "name": "stdout",
     "output_type": "stream",
     "text": [
      "root\n",
      " |-- total_bill: double (nullable = true)\n",
      " |-- tip: double (nullable = true)\n",
      " |-- sex: string (nullable = true)\n",
      " |-- smoker: string (nullable = true)\n",
      " |-- day: string (nullable = true)\n",
      " |-- time: string (nullable = true)\n",
      " |-- size: integer (nullable = true)\n",
      "\n"
     ]
    }
   ],
   "source": [
    "### Check the schema\n",
    "df_pyspark.printSchema()"
   ]
  },
  {
   "cell_type": "code",
   "execution_count": 19,
   "id": "19da5885",
   "metadata": {
    "colab": {
     "base_uri": "https://localhost:8080/",
     "height": 186
    },
    "id": "19da5885",
    "outputId": "1758346c-b7d9-4c10-e42f-8d64ad305d0d"
   },
   "outputs": [
    {
     "data": {
      "text/html": [
       "<div style=\"max-width:800px; border: 1px solid var(--colab-border-color);\"><style>\n",
       "      pre.function-repr-contents {\n",
       "        overflow-x: auto;\n",
       "        padding: 8px 12px;\n",
       "        max-height: 500px;\n",
       "      }\n",
       "\n",
       "      pre.function-repr-contents.function-repr-contents-collapsed {\n",
       "        cursor: pointer;\n",
       "        max-height: 100px;\n",
       "      }\n",
       "    </style>\n",
       "    <pre style=\"white-space: initial; background:\n",
       "         var(--colab-secondary-surface-color); padding: 8px 12px;\n",
       "         border-bottom: 1px solid var(--colab-border-color);\"><b>pyspark.sql.dataframe.DataFrame</b><br/>def __init__(jdf: JavaObject, sql_ctx: Union[&#x27;SQLContext&#x27;, &#x27;SparkSession&#x27;])</pre><pre class=\"function-repr-contents function-repr-contents-collapsed\" style=\"\"><a class=\"filepath\" style=\"display:none\" href=\"#\">/usr/local/lib/python3.10/dist-packages/pyspark/sql/dataframe.py</a>A distributed collection of data grouped into named columns.\n",
       "\n",
       ".. versionadded:: 1.3.0\n",
       "\n",
       ".. versionchanged:: 3.4.0\n",
       "    Supports Spark Connect.\n",
       "\n",
       "Examples\n",
       "--------\n",
       "A :class:`DataFrame` is equivalent to a relational table in Spark SQL,\n",
       "and can be created using various functions in :class:`SparkSession`:\n",
       "\n",
       "&gt;&gt;&gt; people = spark.createDataFrame([\n",
       "...     {&quot;deptId&quot;: 1, &quot;age&quot;: 40, &quot;name&quot;: &quot;Hyukjin Kwon&quot;, &quot;gender&quot;: &quot;M&quot;, &quot;salary&quot;: 50},\n",
       "...     {&quot;deptId&quot;: 1, &quot;age&quot;: 50, &quot;name&quot;: &quot;Takuya Ueshin&quot;, &quot;gender&quot;: &quot;M&quot;, &quot;salary&quot;: 100},\n",
       "...     {&quot;deptId&quot;: 2, &quot;age&quot;: 60, &quot;name&quot;: &quot;Xinrong Meng&quot;, &quot;gender&quot;: &quot;F&quot;, &quot;salary&quot;: 150},\n",
       "...     {&quot;deptId&quot;: 3, &quot;age&quot;: 20, &quot;name&quot;: &quot;Haejoon Lee&quot;, &quot;gender&quot;: &quot;M&quot;, &quot;salary&quot;: 200}\n",
       "... ])\n",
       "\n",
       "Once created, it can be manipulated using the various domain-specific-language\n",
       "(DSL) functions defined in: :class:`DataFrame`, :class:`Column`.\n",
       "\n",
       "To select a column from the :class:`DataFrame`, use the apply method:\n",
       "\n",
       "&gt;&gt;&gt; age_col = people.age\n",
       "\n",
       "A more concrete example:\n",
       "\n",
       "&gt;&gt;&gt; # To create DataFrame using SparkSession\n",
       "... department = spark.createDataFrame([\n",
       "...     {&quot;id&quot;: 1, &quot;name&quot;: &quot;PySpark&quot;},\n",
       "...     {&quot;id&quot;: 2, &quot;name&quot;: &quot;ML&quot;},\n",
       "...     {&quot;id&quot;: 3, &quot;name&quot;: &quot;Spark SQL&quot;}\n",
       "... ])\n",
       "\n",
       "&gt;&gt;&gt; people.filter(people.age &gt; 30).join(\n",
       "...     department, people.deptId == department.id).groupBy(\n",
       "...     department.name, &quot;gender&quot;).agg({&quot;salary&quot;: &quot;avg&quot;, &quot;age&quot;: &quot;max&quot;}).show()\n",
       "+-------+------+-----------+--------+\n",
       "|   name|gender|avg(salary)|max(age)|\n",
       "+-------+------+-----------+--------+\n",
       "|     ML|     F|      150.0|      60|\n",
       "|PySpark|     M|       75.0|      50|\n",
       "+-------+------+-----------+--------+\n",
       "\n",
       "Notes\n",
       "-----\n",
       "A DataFrame should only be created as described above. It should not be directly\n",
       "created via using the constructor.</pre>\n",
       "      <script>\n",
       "      if (google.colab.kernel.accessAllowed && google.colab.files && google.colab.files.view) {\n",
       "        for (const element of document.querySelectorAll('.filepath')) {\n",
       "          element.style.display = 'block'\n",
       "          element.onclick = (event) => {\n",
       "            event.preventDefault();\n",
       "            event.stopPropagation();\n",
       "            google.colab.files.view(element.textContent, 80);\n",
       "          };\n",
       "        }\n",
       "      }\n",
       "      for (const element of document.querySelectorAll('.function-repr-contents')) {\n",
       "        element.onclick = (event) => {\n",
       "          event.preventDefault();\n",
       "          event.stopPropagation();\n",
       "          element.classList.toggle('function-repr-contents-collapsed');\n",
       "        };\n",
       "      }\n",
       "      </script>\n",
       "      </div>"
      ],
      "text/plain": [
       "pyspark.sql.dataframe.DataFrame"
      ]
     },
     "execution_count": 19,
     "metadata": {},
     "output_type": "execute_result"
    }
   ],
   "source": [
    "type(df_pyspark)"
   ]
  },
  {
   "cell_type": "code",
   "execution_count": null,
   "id": "e4a3c8eb",
   "metadata": {
    "colab": {
     "base_uri": "https://localhost:8080/"
    },
    "id": "e4a3c8eb",
    "outputId": "fb9fe9ec-1f17-4b13-f5a9-79466476d28e"
   },
   "outputs": [
    {
     "data": {
      "text/plain": [
       "[Row(total_bill=16.99, tip=1.01, sex='Female', smoker='No', day='Sun', time='Dinner', size=2),\n",
       " Row(total_bill=10.34, tip=1.66, sex='Male', smoker='No', day='Sun', time='Dinner', size=3),\n",
       " Row(total_bill=21.01, tip=3.5, sex='Male', smoker='No', day='Sun', time='Dinner', size=3)]"
      ]
     },
     "execution_count": 11,
     "metadata": {},
     "output_type": "execute_result"
    }
   ],
   "source": [
    "df_pyspark.head(3)"
   ]
  },
  {
   "cell_type": "code",
   "execution_count": 20,
   "id": "5523ae24",
   "metadata": {
    "colab": {
     "base_uri": "https://localhost:8080/"
    },
    "id": "5523ae24",
    "outputId": "90ed2f63-4646-4840-ff58-e05bd6cfbc83"
   },
   "outputs": [
    {
     "name": "stdout",
     "output_type": "stream",
     "text": [
      "+----------+----+------+------+---+------+----+\n",
      "|total_bill| tip|   sex|smoker|day|  time|size|\n",
      "+----------+----+------+------+---+------+----+\n",
      "|     16.99|1.01|Female|    No|Sun|Dinner|   2|\n",
      "|     10.34|1.66|  Male|    No|Sun|Dinner|   3|\n",
      "|     21.01| 3.5|  Male|    No|Sun|Dinner|   3|\n",
      "|     23.68|3.31|  Male|    No|Sun|Dinner|   2|\n",
      "|     24.59|3.61|Female|    No|Sun|Dinner|   4|\n",
      "+----------+----+------+------+---+------+----+\n",
      "only showing top 5 rows\n",
      "\n"
     ]
    }
   ],
   "source": [
    "df_pyspark.show(5)"
   ]
  },
  {
   "cell_type": "code",
   "execution_count": 21,
   "id": "qW1M-nttEU50",
   "metadata": {
    "colab": {
     "base_uri": "https://localhost:8080/"
    },
    "id": "qW1M-nttEU50",
    "outputId": "bdf0c5fe-8619-42be-8cb2-2e37b1525efa"
   },
   "outputs": [
    {
     "name": "stdout",
     "output_type": "stream",
     "text": [
      "+----------+------+---+------+\n",
      "|total_bill|   sex|day|  time|\n",
      "+----------+------+---+------+\n",
      "|     16.99|Female|Sun|Dinner|\n",
      "|     10.34|  Male|Sun|Dinner|\n",
      "|     21.01|  Male|Sun|Dinner|\n",
      "|     23.68|  Male|Sun|Dinner|\n",
      "|     24.59|Female|Sun|Dinner|\n",
      "|     25.29|  Male|Sun|Dinner|\n",
      "|      8.77|  Male|Sun|Dinner|\n",
      "|     26.88|  Male|Sun|Dinner|\n",
      "|     15.04|  Male|Sun|Dinner|\n",
      "|     14.78|  Male|Sun|Dinner|\n",
      "|     10.27|  Male|Sun|Dinner|\n",
      "|     35.26|Female|Sun|Dinner|\n",
      "|     15.42|  Male|Sun|Dinner|\n",
      "|     18.43|  Male|Sun|Dinner|\n",
      "|     14.83|Female|Sun|Dinner|\n",
      "|     21.58|  Male|Sun|Dinner|\n",
      "|     10.33|Female|Sun|Dinner|\n",
      "|     16.29|  Male|Sun|Dinner|\n",
      "|     16.97|Female|Sun|Dinner|\n",
      "|     20.65|  Male|Sat|Dinner|\n",
      "+----------+------+---+------+\n",
      "only showing top 20 rows\n",
      "\n"
     ]
    }
   ],
   "source": [
    "df_pyspark.select(['total_bill','sex','day','time']).show()"
   ]
  },
  {
   "cell_type": "code",
   "execution_count": null,
   "id": "ixFF4HLtuQai",
   "metadata": {
    "colab": {
     "base_uri": "https://localhost:8080/"
    },
    "id": "ixFF4HLtuQai",
    "outputId": "2494b5a8-1c51-4c08-b8fe-7dfec54a1819"
   },
   "outputs": [
    {
     "data": {
      "text/plain": [
       "Column<'total_bill'>"
      ]
     },
     "execution_count": 50,
     "metadata": {},
     "output_type": "execute_result"
    }
   ],
   "source": [
    "df_pyspark[0]"
   ]
  },
  {
   "cell_type": "code",
   "execution_count": null,
   "id": "a8bd20e3",
   "metadata": {
    "colab": {
     "base_uri": "https://localhost:8080/"
    },
    "id": "a8bd20e3",
    "outputId": "5ebf29d3-22ed-4d77-c9a1-ff4e04cc07fa"
   },
   "outputs": [
    {
     "name": "stdout",
     "output_type": "stream",
     "text": [
      "+----------+----+------+------+\n",
      "|total_bill| tip|   sex|smoker|\n",
      "+----------+----+------+------+\n",
      "|     16.99|1.01|Female|    No|\n",
      "|     10.34|1.66|  Male|    No|\n",
      "|     21.01| 3.5|  Male|    No|\n",
      "|     23.68|3.31|  Male|    No|\n",
      "|     24.59|3.61|Female|    No|\n",
      "|     25.29|4.71|  Male|    No|\n",
      "|      8.77| 2.0|  Male|    No|\n",
      "|     26.88|3.12|  Male|    No|\n",
      "|     15.04|1.96|  Male|    No|\n",
      "|     14.78|3.23|  Male|    No|\n",
      "|     10.27|1.71|  Male|    No|\n",
      "|     35.26| 5.0|Female|    No|\n",
      "|     15.42|1.57|  Male|    No|\n",
      "|     18.43| 3.0|  Male|    No|\n",
      "|     14.83|3.02|Female|    No|\n",
      "|     21.58|3.92|  Male|    No|\n",
      "|     10.33|1.67|Female|    No|\n",
      "|     16.29|3.71|  Male|    No|\n",
      "|     16.97| 3.5|Female|    No|\n",
      "|     20.65|3.35|  Male|    No|\n",
      "+----------+----+------+------+\n",
      "only showing top 20 rows\n",
      "\n"
     ]
    }
   ],
   "source": [
    "df_pyspark[['total_bill','tip','sex','smoker']].show()"
   ]
  },
  {
   "cell_type": "code",
   "execution_count": 22,
   "id": "c3d42722",
   "metadata": {
    "colab": {
     "base_uri": "https://localhost:8080/"
    },
    "id": "c3d42722",
    "outputId": "3e923b75-a80f-4993-ca52-98aa6431b23a"
   },
   "outputs": [
    {
     "data": {
      "text/plain": [
       "[('total_bill', 'double'),\n",
       " ('tip', 'double'),\n",
       " ('sex', 'string'),\n",
       " ('smoker', 'string'),\n",
       " ('day', 'string'),\n",
       " ('time', 'string'),\n",
       " ('size', 'int')]"
      ]
     },
     "execution_count": 22,
     "metadata": {},
     "output_type": "execute_result"
    }
   ],
   "source": [
    "df_pyspark.dtypes"
   ]
  },
  {
   "cell_type": "code",
   "execution_count": 23,
   "id": "fa74b18e",
   "metadata": {
    "colab": {
     "base_uri": "https://localhost:8080/"
    },
    "id": "fa74b18e",
    "outputId": "aa0f60f5-2763-404d-8fa4-2d59953f469f"
   },
   "outputs": [
    {
     "name": "stdout",
     "output_type": "stream",
     "text": [
      "+-------+------------------+------------------+------+------+----+------+------------------+\n",
      "|summary|        total_bill|               tip|   sex|smoker| day|  time|              size|\n",
      "+-------+------------------+------------------+------+------+----+------+------------------+\n",
      "|  count|               244|               244|   244|   244| 244|   244|               244|\n",
      "|   mean|19.785942622950824|2.9982786885245902|  NULL|  NULL|NULL|  NULL| 2.569672131147541|\n",
      "| stddev| 8.902411954856857|1.3836381890011815|  NULL|  NULL|NULL|  NULL|0.9510998047322347|\n",
      "|    min|              3.07|               1.0|Female|    No| Fri|Dinner|                 1|\n",
      "|    max|             50.81|              10.0|  Male|   Yes|Thur| Lunch|                 6|\n",
      "+-------+------------------+------------------+------+------+----+------+------------------+\n",
      "\n"
     ]
    }
   ],
   "source": [
    "df_pyspark.describe().show()"
   ]
  },
  {
   "cell_type": "code",
   "execution_count": null,
   "id": "hYlwdPo2FoSj",
   "metadata": {
    "colab": {
     "base_uri": "https://localhost:8080/"
    },
    "id": "hYlwdPo2FoSj",
    "outputId": "ba27a008-3845-4721-f62c-039226f12610"
   },
   "outputs": [
    {
     "data": {
      "text/plain": [
       "[('total_bill', 'double'),\n",
       " ('tip', 'double'),\n",
       " ('sex', 'string'),\n",
       " ('smoker', 'string'),\n",
       " ('day', 'string'),\n",
       " ('time', 'string'),\n",
       " ('size', 'int'),\n",
       " ('total bill after discount', 'double')]"
      ]
     },
     "execution_count": 24,
     "metadata": {},
     "output_type": "execute_result"
    }
   ],
   "source": [
    "df_pyspark.dtypes"
   ]
  },
  {
   "cell_type": "code",
   "execution_count": 24,
   "id": "6a8d7b54",
   "metadata": {
    "id": "6a8d7b54"
   },
   "outputs": [],
   "source": [
    "### Adding Columns in data frame\n",
    "df_pyspark=df_pyspark.withColumn('total bill after discount',df_pyspark['total_bill']-2)"
   ]
  },
  {
   "cell_type": "code",
   "execution_count": 25,
   "id": "e9ff01ed",
   "metadata": {
    "colab": {
     "base_uri": "https://localhost:8080/"
    },
    "id": "e9ff01ed",
    "outputId": "70cda7b7-12fd-4d63-d12a-801298f10fca"
   },
   "outputs": [
    {
     "name": "stdout",
     "output_type": "stream",
     "text": [
      "+----------+----+------+------+---+------+----+-------------------------+\n",
      "|total_bill| tip|   sex|smoker|day|  time|size|total bill after discount|\n",
      "+----------+----+------+------+---+------+----+-------------------------+\n",
      "|     16.99|1.01|Female|    No|Sun|Dinner|   2|       14.989999999999998|\n",
      "|     10.34|1.66|  Male|    No|Sun|Dinner|   3|                     8.34|\n",
      "|     21.01| 3.5|  Male|    No|Sun|Dinner|   3|                    19.01|\n",
      "|     23.68|3.31|  Male|    No|Sun|Dinner|   2|                    21.68|\n",
      "|     24.59|3.61|Female|    No|Sun|Dinner|   4|                    22.59|\n",
      "|     25.29|4.71|  Male|    No|Sun|Dinner|   4|                    23.29|\n",
      "|      8.77| 2.0|  Male|    No|Sun|Dinner|   2|                     6.77|\n",
      "|     26.88|3.12|  Male|    No|Sun|Dinner|   4|                    24.88|\n",
      "|     15.04|1.96|  Male|    No|Sun|Dinner|   2|                    13.04|\n",
      "|     14.78|3.23|  Male|    No|Sun|Dinner|   2|                    12.78|\n",
      "|     10.27|1.71|  Male|    No|Sun|Dinner|   2|                     8.27|\n",
      "|     35.26| 5.0|Female|    No|Sun|Dinner|   4|                    33.26|\n",
      "|     15.42|1.57|  Male|    No|Sun|Dinner|   2|                    13.42|\n",
      "|     18.43| 3.0|  Male|    No|Sun|Dinner|   4|                    16.43|\n",
      "|     14.83|3.02|Female|    No|Sun|Dinner|   2|                    12.83|\n",
      "|     21.58|3.92|  Male|    No|Sun|Dinner|   2|                    19.58|\n",
      "|     10.33|1.67|Female|    No|Sun|Dinner|   3|                     8.33|\n",
      "|     16.29|3.71|  Male|    No|Sun|Dinner|   3|                    14.29|\n",
      "|     16.97| 3.5|Female|    No|Sun|Dinner|   3|       14.969999999999999|\n",
      "|     20.65|3.35|  Male|    No|Sat|Dinner|   3|                    18.65|\n",
      "+----------+----+------+------+---+------+----+-------------------------+\n",
      "only showing top 20 rows\n",
      "\n"
     ]
    }
   ],
   "source": [
    "df_pyspark.show()"
   ]
  },
  {
   "cell_type": "code",
   "execution_count": 26,
   "id": "5432faa1",
   "metadata": {
    "id": "5432faa1"
   },
   "outputs": [],
   "source": [
    "### Rename the columns\n",
    "df_pyspark=df_pyspark.withColumnRenamed('total bill after discount','Final_Bill')"
   ]
  },
  {
   "cell_type": "code",
   "execution_count": 27,
   "id": "hjob4f-EscTe",
   "metadata": {
    "colab": {
     "base_uri": "https://localhost:8080/"
    },
    "id": "hjob4f-EscTe",
    "outputId": "0f6065a0-9a3c-422b-95c1-239fbbf82f0d"
   },
   "outputs": [
    {
     "name": "stdout",
     "output_type": "stream",
     "text": [
      "+----------+----+------+------+---+------+----+------------------+\n",
      "|total_bill| tip|   sex|smoker|day|  time|size|        Final_Bill|\n",
      "+----------+----+------+------+---+------+----+------------------+\n",
      "|     16.99|1.01|Female|    No|Sun|Dinner|   2|14.989999999999998|\n",
      "|     10.34|1.66|  Male|    No|Sun|Dinner|   3|              8.34|\n",
      "|     21.01| 3.5|  Male|    No|Sun|Dinner|   3|             19.01|\n",
      "|     23.68|3.31|  Male|    No|Sun|Dinner|   2|             21.68|\n",
      "|     24.59|3.61|Female|    No|Sun|Dinner|   4|             22.59|\n",
      "|     25.29|4.71|  Male|    No|Sun|Dinner|   4|             23.29|\n",
      "|      8.77| 2.0|  Male|    No|Sun|Dinner|   2|              6.77|\n",
      "|     26.88|3.12|  Male|    No|Sun|Dinner|   4|             24.88|\n",
      "|     15.04|1.96|  Male|    No|Sun|Dinner|   2|             13.04|\n",
      "|     14.78|3.23|  Male|    No|Sun|Dinner|   2|             12.78|\n",
      "|     10.27|1.71|  Male|    No|Sun|Dinner|   2|              8.27|\n",
      "|     35.26| 5.0|Female|    No|Sun|Dinner|   4|             33.26|\n",
      "|     15.42|1.57|  Male|    No|Sun|Dinner|   2|             13.42|\n",
      "|     18.43| 3.0|  Male|    No|Sun|Dinner|   4|             16.43|\n",
      "|     14.83|3.02|Female|    No|Sun|Dinner|   2|             12.83|\n",
      "|     21.58|3.92|  Male|    No|Sun|Dinner|   2|             19.58|\n",
      "|     10.33|1.67|Female|    No|Sun|Dinner|   3|              8.33|\n",
      "|     16.29|3.71|  Male|    No|Sun|Dinner|   3|             14.29|\n",
      "|     16.97| 3.5|Female|    No|Sun|Dinner|   3|14.969999999999999|\n",
      "|     20.65|3.35|  Male|    No|Sat|Dinner|   3|             18.65|\n",
      "+----------+----+------+------+---+------+----+------------------+\n",
      "only showing top 20 rows\n",
      "\n"
     ]
    }
   ],
   "source": [
    "df_pyspark.show()"
   ]
  },
  {
   "cell_type": "code",
   "execution_count": 28,
   "id": "2e5b7d72",
   "metadata": {
    "id": "2e5b7d72"
   },
   "outputs": [],
   "source": [
    "### Drop the columns\n",
    "df_pyspark=df_pyspark.drop('Final_Bill')"
   ]
  },
  {
   "cell_type": "code",
   "execution_count": null,
   "id": "f211a741",
   "metadata": {
    "colab": {
     "base_uri": "https://localhost:8080/"
    },
    "id": "f211a741",
    "outputId": "708d736a-621f-41da-93f0-0e06abe36d2c"
   },
   "outputs": [
    {
     "name": "stdout",
     "output_type": "stream",
     "text": [
      "+----------+----+------+------+---+------+----+\n",
      "|total_bill| tip|   sex|smoker|day|  time|size|\n",
      "+----------+----+------+------+---+------+----+\n",
      "|     16.99|1.01|Female|    No|Sun|Dinner|   2|\n",
      "|     10.34|1.66|  Male|    No|Sun|Dinner|   3|\n",
      "|     21.01| 3.5|  Male|    No|Sun|Dinner|   3|\n",
      "|     23.68|3.31|  Male|    No|Sun|Dinner|   2|\n",
      "|     24.59|3.61|Female|    No|Sun|Dinner|   4|\n",
      "|     25.29|4.71|  Male|    No|Sun|Dinner|   4|\n",
      "|      8.77| 2.0|  Male|    No|Sun|Dinner|   2|\n",
      "|     26.88|3.12|  Male|    No|Sun|Dinner|   4|\n",
      "|     15.04|1.96|  Male|    No|Sun|Dinner|   2|\n",
      "|     14.78|3.23|  Male|    No|Sun|Dinner|   2|\n",
      "|     10.27|1.71|  Male|    No|Sun|Dinner|   2|\n",
      "|     35.26| 5.0|Female|    No|Sun|Dinner|   4|\n",
      "|     15.42|1.57|  Male|    No|Sun|Dinner|   2|\n",
      "|     18.43| 3.0|  Male|    No|Sun|Dinner|   4|\n",
      "|     14.83|3.02|Female|    No|Sun|Dinner|   2|\n",
      "|     21.58|3.92|  Male|    No|Sun|Dinner|   2|\n",
      "|     10.33|1.67|Female|    No|Sun|Dinner|   3|\n",
      "|     16.29|3.71|  Male|    No|Sun|Dinner|   3|\n",
      "|     16.97| 3.5|Female|    No|Sun|Dinner|   3|\n",
      "|     20.65|3.35|  Male|    No|Sat|Dinner|   3|\n",
      "+----------+----+------+------+---+------+----+\n",
      "only showing top 20 rows\n",
      "\n"
     ]
    }
   ],
   "source": [
    "df_pyspark.show()"
   ]
  },
  {
   "cell_type": "code",
   "execution_count": null,
   "id": "9a80b806",
   "metadata": {
    "id": "9a80b806"
   },
   "outputs": [],
   "source": [
    "df_pyspark=df_pyspark.drop('smoker')"
   ]
  },
  {
   "cell_type": "code",
   "execution_count": null,
   "id": "T0lajcB1MPzT",
   "metadata": {
    "id": "T0lajcB1MPzT"
   },
   "outputs": [],
   "source": [
    "df_pyspark1=spark.read.option('header','true').csv('/content/sample_data/test2.csv',inferSchema=True)"
   ]
  },
  {
   "cell_type": "code",
   "execution_count": null,
   "id": "qQQsQlRlMX8f",
   "metadata": {
    "colab": {
     "base_uri": "https://localhost:8080/"
    },
    "id": "qQQsQlRlMX8f",
    "outputId": "66e5454e-0752-401b-c72f-fd43a7f68fa8"
   },
   "outputs": [
    {
     "name": "stdout",
     "output_type": "stream",
     "text": [
      "+---------+----+----------+------+\n",
      "|     Name| age|Experience|Salary|\n",
      "+---------+----+----------+------+\n",
      "|    Krish|  31|        10| 30000|\n",
      "|Sudhanshu|  30|         8| 25000|\n",
      "|    Sunny|  29|         4| 20000|\n",
      "|     Paul|  24|         3| 20000|\n",
      "|   Harsha|  21|         1| 15000|\n",
      "|  Shubham|  23|         2| 18000|\n",
      "|   Mahesh|NULL|      NULL| 40000|\n",
      "|     NULL|  34|        10| 38000|\n",
      "|     NULL|  36|      NULL|  NULL|\n",
      "+---------+----+----------+------+\n",
      "\n"
     ]
    }
   ],
   "source": [
    "df_pyspark1.show()"
   ]
  },
  {
   "cell_type": "code",
   "execution_count": null,
   "id": "e00f90e8",
   "metadata": {
    "colab": {
     "base_uri": "https://localhost:8080/"
    },
    "id": "e00f90e8",
    "outputId": "ced26b99-883b-4bd6-afeb-b43382b1cdd1"
   },
   "outputs": [
    {
     "name": "stdout",
     "output_type": "stream",
     "text": [
      "+---------+---+----------+------+\n",
      "|     Name|age|Experience|Salary|\n",
      "+---------+---+----------+------+\n",
      "|    Krish| 31|        10| 30000|\n",
      "|Sudhanshu| 30|         8| 25000|\n",
      "|    Sunny| 29|         4| 20000|\n",
      "|     Paul| 24|         3| 20000|\n",
      "|   Harsha| 21|         1| 15000|\n",
      "|  Shubham| 23|         2| 18000|\n",
      "+---------+---+----------+------+\n",
      "\n"
     ]
    }
   ],
   "source": [
    "### any==how\n",
    "df_pyspark1=df_pyspark1.na.drop(how=\"any\").show()"
   ]
  },
  {
   "cell_type": "code",
   "execution_count": null,
   "id": "7c6cb899",
   "metadata": {
    "colab": {
     "base_uri": "https://localhost:8080/"
    },
    "id": "7c6cb899",
    "outputId": "161e0c4e-6fcf-4945-aa1c-811113c946b0"
   },
   "outputs": [
    {
     "name": "stdout",
     "output_type": "stream",
     "text": [
      "+---------+---+----------+------+\n",
      "|     Name|age|Experience|Salary|\n",
      "+---------+---+----------+------+\n",
      "|    Krish| 31|        10| 30000|\n",
      "|Sudhanshu| 30|         8| 25000|\n",
      "|    Sunny| 29|         4| 20000|\n",
      "|     Paul| 24|         3| 20000|\n",
      "|   Harsha| 21|         1| 15000|\n",
      "|  Shubham| 23|         2| 18000|\n",
      "|   Mahesh|  0|         0| 40000|\n",
      "|     NULL| 34|        10| 38000|\n",
      "|     NULL| 36|         0|     0|\n",
      "+---------+---+----------+------+\n",
      "\n"
     ]
    }
   ],
   "source": [
    "df_pyspark1.na.fill(0,['Experience','age','Salary']).show()"
   ]
  },
  {
   "cell_type": "code",
   "execution_count": null,
   "id": "2e0a8c75",
   "metadata": {
    "colab": {
     "base_uri": "https://localhost:8080/"
    },
    "id": "2e0a8c75",
    "outputId": "878fd368-ca00-4756-8e43-7f682813b910"
   },
   "outputs": [
    {
     "name": "stdout",
     "output_type": "stream",
     "text": [
      "+---------+---+----------+------+\n",
      "|     Name|age|Experience|Salary|\n",
      "+---------+---+----------+------+\n",
      "|    Krish| 31|        10| 30000|\n",
      "|Sudhanshu| 30|         8| 25000|\n",
      "|    Sunny| 29|         4| 20000|\n",
      "|     Paul| 24|         3| 20000|\n",
      "|   Harsha| 21|         1| 15000|\n",
      "|  Shubham| 23|         2| 18000|\n",
      "|   Mahesh|  0|         0| 40000|\n",
      "|  No Name| 34|        10| 38000|\n",
      "|  No Name| 36|         0|     0|\n",
      "+---------+---+----------+------+\n",
      "\n"
     ]
    }
   ],
   "source": [
    "df_pyspark1.na.fill('No Name',['Name']).na.fill(0,['Experience','age','Salary']).show()"
   ]
  },
  {
   "cell_type": "code",
   "execution_count": null,
   "id": "QV0yx4eL-VDn",
   "metadata": {
    "id": "QV0yx4eL-VDn"
   },
   "outputs": [],
   "source": [
    "# PySpark Aggregation Functions\n",
    "## read the dataset\n",
    "df_pyspark=spark.read.option('header','true').csv('/content/sample_data/tips.csv',inferSchema=True)"
   ]
  },
  {
   "cell_type": "code",
   "execution_count": null,
   "id": "LVJhzwnW-gpo",
   "metadata": {
    "colab": {
     "base_uri": "https://localhost:8080/"
    },
    "id": "LVJhzwnW-gpo",
    "outputId": "509229ad-bf02-42c7-9256-d4c394423326"
   },
   "outputs": [
    {
     "name": "stdout",
     "output_type": "stream",
     "text": [
      "+----------+----+------+------+---+------+----+\n",
      "|total_bill| tip|   sex|smoker|day|  time|size|\n",
      "+----------+----+------+------+---+------+----+\n",
      "|     16.99|1.01|Female|    No|Sun|Dinner|   2|\n",
      "|     10.34|1.66|  Male|    No|Sun|Dinner|   3|\n",
      "|     21.01| 3.5|  Male|    No|Sun|Dinner|   3|\n",
      "|     23.68|3.31|  Male|    No|Sun|Dinner|   2|\n",
      "|     24.59|3.61|Female|    No|Sun|Dinner|   4|\n",
      "+----------+----+------+------+---+------+----+\n",
      "only showing top 5 rows\n",
      "\n"
     ]
    }
   ],
   "source": [
    "df_pyspark.show(5)"
   ]
  },
  {
   "cell_type": "code",
   "execution_count": null,
   "id": "qdXeiavp_LFK",
   "metadata": {
    "colab": {
     "base_uri": "https://localhost:8080/"
    },
    "id": "qdXeiavp_LFK",
    "outputId": "af1667dc-b1f2-475a-e0c0-7baaaf9d8411"
   },
   "outputs": [
    {
     "name": "stdout",
     "output_type": "stream",
     "text": [
      "+------+-----+\n",
      "|smoker|count|\n",
      "+------+-----+\n",
      "|    No|  151|\n",
      "|   Yes|   93|\n",
      "+------+-----+\n",
      "\n"
     ]
    }
   ],
   "source": [
    "df_pyspark.groupBy('smoker').count().show()"
   ]
  },
  {
   "cell_type": "code",
   "execution_count": null,
   "id": "5v2aWMsOtR34",
   "metadata": {
    "id": "5v2aWMsOtR34"
   },
   "outputs": [],
   "source": [
    "df_pyspark.groupBy('sex').count().show()"
   ]
  },
  {
   "cell_type": "code",
   "execution_count": null,
   "id": "5Ak8XmQQ_VfC",
   "metadata": {
    "colab": {
     "base_uri": "https://localhost:8080/"
    },
    "id": "5Ak8XmQQ_VfC",
    "outputId": "57343ed5-1a9e-4200-9f30-8b6f42f79cca"
   },
   "outputs": [
    {
     "name": "stdout",
     "output_type": "stream",
     "text": [
      "+------+------------------+-----------------+---------+\n",
      "|   sex|   sum(total_bill)|         sum(tip)|sum(size)|\n",
      "+------+------------------+-----------------+---------+\n",
      "|Female|1570.9499999999998|           246.51|      214|\n",
      "|  Male|3256.8200000000024|485.0700000000001|      413|\n",
      "+------+------------------+-----------------+---------+\n",
      "\n"
     ]
    }
   ],
   "source": [
    "df_pyspark.groupBy('sex').sum().show()"
   ]
  },
  {
   "cell_type": "code",
   "execution_count": null,
   "id": "M52OCdl6PHxc",
   "metadata": {
    "colab": {
     "base_uri": "https://localhost:8080/"
    },
    "id": "M52OCdl6PHxc",
    "outputId": "1dddf143-f2ff-4b2a-942f-49b594b28a88"
   },
   "outputs": [
    {
     "name": "stdout",
     "output_type": "stream",
     "text": [
      "+------+---------------+\n",
      "|   sex|max(total_bill)|\n",
      "+------+---------------+\n",
      "|Female|           44.3|\n",
      "|  Male|          50.81|\n",
      "+------+---------------+\n",
      "\n"
     ]
    }
   ],
   "source": [
    "df_pyspark.groupBy('sex').max('total_bill').show()"
   ]
  },
  {
   "cell_type": "code",
   "execution_count": null,
   "id": "3Q6N-idUPOf5",
   "metadata": {
    "colab": {
     "base_uri": "https://localhost:8080/"
    },
    "id": "3Q6N-idUPOf5",
    "outputId": "d4772c84-f640-4aeb-896c-2402bcb03042"
   },
   "outputs": [
    {
     "name": "stdout",
     "output_type": "stream",
     "text": [
      "+------+---------------+\n",
      "|   sex|min(total_bill)|\n",
      "+------+---------------+\n",
      "|Female|           3.07|\n",
      "|  Male|           7.25|\n",
      "+------+---------------+\n",
      "\n"
     ]
    }
   ],
   "source": [
    "df_pyspark.groupBy('sex').min('total_bill').show()"
   ]
  },
  {
   "cell_type": "code",
   "execution_count": null,
   "id": "l0LIVDaCN-u_",
   "metadata": {
    "colab": {
     "base_uri": "https://localhost:8080/"
    },
    "id": "l0LIVDaCN-u_",
    "outputId": "636285cd-726f-4bd0-e145-3163b208a7ba"
   },
   "outputs": [
    {
     "name": "stdout",
     "output_type": "stream",
     "text": [
      "+----+------+------------------+\n",
      "| day|   sex|   sum(total_bill)|\n",
      "+----+------+------------------+\n",
      "| Sat|  Male|1227.3499999999997|\n",
      "|Thur|  Male| 561.4399999999999|\n",
      "| Sun|  Male|           1269.46|\n",
      "| Fri|  Male|            198.57|\n",
      "| Sat|Female| 551.0499999999998|\n",
      "| Fri|Female|            127.31|\n",
      "|Thur|Female|            534.89|\n",
      "| Sun|Female|357.69999999999993|\n",
      "+----+------+------------------+\n",
      "\n"
     ]
    }
   ],
   "source": [
    "df_pyspark.groupBy(['day','sex']).sum('total_bill').show()"
   ]
  },
  {
   "cell_type": "code",
   "execution_count": null,
   "id": "KU5QZDR3_f8i",
   "metadata": {
    "colab": {
     "base_uri": "https://localhost:8080/"
    },
    "id": "KU5QZDR3_f8i",
    "outputId": "6f51b51a-62b6-4626-94bc-aa1b6fc8ab3c"
   },
   "outputs": [
    {
     "name": "stdout",
     "output_type": "stream",
     "text": [
      "+------+------------------+\n",
      "|   sex|   avg(total_bill)|\n",
      "+------+------------------+\n",
      "|Female|18.056896551724137|\n",
      "|  Male|20.744076433121034|\n",
      "+------+------------------+\n",
      "\n"
     ]
    }
   ],
   "source": [
    "df_pyspark.groupBy('sex').avg('total_bill').show()"
   ]
  },
  {
   "cell_type": "code",
   "execution_count": null,
   "id": "yITXFnSo_rcY",
   "metadata": {
    "colab": {
     "base_uri": "https://localhost:8080/"
    },
    "id": "yITXFnSo_rcY",
    "outputId": "bd170f06-cd58-42fd-b318-787a16753b3e"
   },
   "outputs": [
    {
     "name": "stdout",
     "output_type": "stream",
     "text": [
      "+------+----+------------------+\n",
      "|  time| day|   avg(total_bill)|\n",
      "+------+----+------------------+\n",
      "|Dinner|Thur|             18.78|\n",
      "|Dinner| Fri| 19.66333333333333|\n",
      "|Dinner| Sun|21.410000000000004|\n",
      "|Dinner| Sat|20.441379310344825|\n",
      "+------+----+------------------+\n",
      "\n"
     ]
    }
   ],
   "source": [
    "df_pyspark.groupBy(['time','day']).avg('total_bill').filter(\"time=='Dinner'\").show()"
   ]
  },
  {
   "cell_type": "code",
   "execution_count": null,
   "id": "h1VLL4WCAauo",
   "metadata": {
    "colab": {
     "base_uri": "https://localhost:8080/"
    },
    "id": "h1VLL4WCAauo",
    "outputId": "4005d480-c2e0-4626-88b7-fbb4e88dc60a"
   },
   "outputs": [
    {
     "name": "stdout",
     "output_type": "stream",
     "text": [
      "+----+------------------+\n",
      "| day|   avg(total_bill)|\n",
      "+----+------------------+\n",
      "|Thur|17.682741935483865|\n",
      "| Sun|21.410000000000004|\n",
      "+----+------------------+\n",
      "\n"
     ]
    }
   ],
   "source": [
    "df_pyspark.groupBy('day').avg('total_bill').filter(\"day=='Sun' or day=='Thur'\").show()"
   ]
  },
  {
   "cell_type": "code",
   "execution_count": null,
   "id": "utARzVMtDD32",
   "metadata": {
    "id": "utARzVMtDD32"
   },
   "outputs": [],
   "source": [
    "df_pyspark.createOrReplaceTempView('tips')"
   ]
  },
  {
   "cell_type": "code",
   "execution_count": null,
   "id": "vLRevJG3EAa5",
   "metadata": {
    "colab": {
     "base_uri": "https://localhost:8080/"
    },
    "id": "vLRevJG3EAa5",
    "outputId": "85708c44-d46d-4551-d518-27df5106ae1d"
   },
   "outputs": [
    {
     "name": "stdout",
     "output_type": "stream",
     "text": [
      "+----------+----+----+------+---+------+----+\n",
      "|total_bill| tip| sex|smoker|day|  time|size|\n",
      "+----------+----+----+------+---+------+----+\n",
      "|     21.01| 3.5|Male|    No|Sun|Dinner|   3|\n",
      "|     23.68|3.31|Male|    No|Sun|Dinner|   2|\n",
      "|     25.29|4.71|Male|    No|Sun|Dinner|   4|\n",
      "|     26.88|3.12|Male|    No|Sun|Dinner|   4|\n",
      "|     21.58|3.92|Male|    No|Sun|Dinner|   2|\n",
      "+----------+----+----+------+---+------+----+\n",
      "only showing top 5 rows\n",
      "\n"
     ]
    }
   ],
   "source": [
    "df_pyspark.filter(\"total_bill > 20 and sex='Male'\").show(5)"
   ]
  },
  {
   "cell_type": "code",
   "execution_count": null,
   "id": "P-CNs7L3DKhi",
   "metadata": {
    "colab": {
     "base_uri": "https://localhost:8080/"
    },
    "id": "P-CNs7L3DKhi",
    "outputId": "b82f89f6-8656-4abd-b2cd-a6d4c451bbb4"
   },
   "outputs": [
    {
     "name": "stdout",
     "output_type": "stream",
     "text": [
      "+----------+----+----+------+---+------+----+\n",
      "|total_bill| tip| sex|smoker|day|  time|size|\n",
      "+----------+----+----+------+---+------+----+\n",
      "|     21.01| 3.5|Male|    No|Sun|Dinner|   3|\n",
      "|     23.68|3.31|Male|    No|Sun|Dinner|   2|\n",
      "|     25.29|4.71|Male|    No|Sun|Dinner|   4|\n",
      "|     26.88|3.12|Male|    No|Sun|Dinner|   4|\n",
      "|     21.58|3.92|Male|    No|Sun|Dinner|   2|\n",
      "+----------+----+----+------+---+------+----+\n",
      "only showing top 5 rows\n",
      "\n"
     ]
    }
   ],
   "source": [
    "spark.sql(\"select * from tips where total_bill > 20 and sex='Male'\").show(5)"
   ]
  },
  {
   "cell_type": "code",
   "execution_count": null,
   "id": "6MADL5tRDuMK",
   "metadata": {
    "colab": {
     "base_uri": "https://localhost:8080/"
    },
    "id": "6MADL5tRDuMK",
    "outputId": "ae66dd86-c028-42df-bba6-cc92346a5f6f"
   },
   "outputs": [
    {
     "name": "stdout",
     "output_type": "stream",
     "text": [
      "+----+------------------+\n",
      "| day|   avg(total_bill)|\n",
      "+----+------------------+\n",
      "|Thur|17.682741935483865|\n",
      "| Sun|21.410000000000004|\n",
      "+----+------------------+\n",
      "\n"
     ]
    }
   ],
   "source": [
    "df_pyspark.groupBy('day').avg('total_bill').filter(\"day=='Sun' or day=='Thur'\").show()"
   ]
  },
  {
   "cell_type": "code",
   "execution_count": null,
   "id": "TOD9VVPcDu4A",
   "metadata": {
    "colab": {
     "base_uri": "https://localhost:8080/",
     "height": 443
    },
    "id": "TOD9VVPcDu4A",
    "outputId": "79bc94e3-9bdd-4f34-c93d-51da2a847329"
   },
   "outputs": [
    {
     "ename": "AnalysisException",
     "evalue": "[TABLE_OR_VIEW_NOT_FOUND] The table or view `tips` cannot be found. Verify the spelling and correctness of the schema and catalog.\nIf you did not qualify the name with a schema, verify the current_schema() output, or qualify the name with the correct schema and catalog.\nTo tolerate the error on drop use DROP VIEW IF EXISTS or DROP TABLE IF EXISTS.; line 1 pos 32;\n'UnresolvedHaving 'day IN (Sun,Thur)\n+- 'Aggregate ['day], ['day, unresolvedalias('avg('total_bill), None)]\n   +- 'UnresolvedRelation [tips], [], false\n",
     "output_type": "error",
     "traceback": [
      "\u001b[0;31m---------------------------------------------------------------------------\u001b[0m",
      "\u001b[0;31mAnalysisException\u001b[0m                         Traceback (most recent call last)",
      "\u001b[0;32m<ipython-input-47-d43f4d7745b6>\u001b[0m in \u001b[0;36m<cell line: 1>\u001b[0;34m()\u001b[0m\n\u001b[0;32m----> 1\u001b[0;31m \u001b[0mspark\u001b[0m\u001b[0;34m.\u001b[0m\u001b[0msql\u001b[0m\u001b[0;34m(\u001b[0m\u001b[0;34m\"select day,avg(total_bill) from tips group by day having day in('Sun','Thur')\"\u001b[0m\u001b[0;34m)\u001b[0m\u001b[0;34m.\u001b[0m\u001b[0mshow\u001b[0m\u001b[0;34m(\u001b[0m\u001b[0;34m)\u001b[0m\u001b[0;34m\u001b[0m\u001b[0;34m\u001b[0m\u001b[0m\n\u001b[0m",
      "\u001b[0;32m/usr/local/lib/python3.10/dist-packages/pyspark/sql/session.py\u001b[0m in \u001b[0;36msql\u001b[0;34m(self, sqlQuery, args, **kwargs)\u001b[0m\n\u001b[1;32m   1629\u001b[0m                     \u001b[0;34m[\u001b[0m\u001b[0m_to_java_column\u001b[0m\u001b[0;34m(\u001b[0m\u001b[0mlit\u001b[0m\u001b[0;34m(\u001b[0m\u001b[0mv\u001b[0m\u001b[0;34m)\u001b[0m\u001b[0;34m)\u001b[0m \u001b[0;32mfor\u001b[0m \u001b[0mv\u001b[0m \u001b[0;32min\u001b[0m \u001b[0;34m(\u001b[0m\u001b[0margs\u001b[0m \u001b[0;32mor\u001b[0m \u001b[0;34m[\u001b[0m\u001b[0;34m]\u001b[0m\u001b[0;34m)\u001b[0m\u001b[0;34m]\u001b[0m\u001b[0;34m\u001b[0m\u001b[0;34m\u001b[0m\u001b[0m\n\u001b[1;32m   1630\u001b[0m                 )\n\u001b[0;32m-> 1631\u001b[0;31m             \u001b[0;32mreturn\u001b[0m \u001b[0mDataFrame\u001b[0m\u001b[0;34m(\u001b[0m\u001b[0mself\u001b[0m\u001b[0;34m.\u001b[0m\u001b[0m_jsparkSession\u001b[0m\u001b[0;34m.\u001b[0m\u001b[0msql\u001b[0m\u001b[0;34m(\u001b[0m\u001b[0msqlQuery\u001b[0m\u001b[0;34m,\u001b[0m \u001b[0mlitArgs\u001b[0m\u001b[0;34m)\u001b[0m\u001b[0;34m,\u001b[0m \u001b[0mself\u001b[0m\u001b[0;34m)\u001b[0m\u001b[0;34m\u001b[0m\u001b[0;34m\u001b[0m\u001b[0m\n\u001b[0m\u001b[1;32m   1632\u001b[0m         \u001b[0;32mfinally\u001b[0m\u001b[0;34m:\u001b[0m\u001b[0;34m\u001b[0m\u001b[0;34m\u001b[0m\u001b[0m\n\u001b[1;32m   1633\u001b[0m             \u001b[0;32mif\u001b[0m \u001b[0mlen\u001b[0m\u001b[0;34m(\u001b[0m\u001b[0mkwargs\u001b[0m\u001b[0;34m)\u001b[0m \u001b[0;34m>\u001b[0m \u001b[0;36m0\u001b[0m\u001b[0;34m:\u001b[0m\u001b[0;34m\u001b[0m\u001b[0;34m\u001b[0m\u001b[0m\n",
      "\u001b[0;32m/usr/local/lib/python3.10/dist-packages/py4j/java_gateway.py\u001b[0m in \u001b[0;36m__call__\u001b[0;34m(self, *args)\u001b[0m\n\u001b[1;32m   1320\u001b[0m \u001b[0;34m\u001b[0m\u001b[0m\n\u001b[1;32m   1321\u001b[0m         \u001b[0manswer\u001b[0m \u001b[0;34m=\u001b[0m \u001b[0mself\u001b[0m\u001b[0;34m.\u001b[0m\u001b[0mgateway_client\u001b[0m\u001b[0;34m.\u001b[0m\u001b[0msend_command\u001b[0m\u001b[0;34m(\u001b[0m\u001b[0mcommand\u001b[0m\u001b[0;34m)\u001b[0m\u001b[0;34m\u001b[0m\u001b[0;34m\u001b[0m\u001b[0m\n\u001b[0;32m-> 1322\u001b[0;31m         return_value = get_return_value(\n\u001b[0m\u001b[1;32m   1323\u001b[0m             answer, self.gateway_client, self.target_id, self.name)\n\u001b[1;32m   1324\u001b[0m \u001b[0;34m\u001b[0m\u001b[0m\n",
      "\u001b[0;32m/usr/local/lib/python3.10/dist-packages/pyspark/errors/exceptions/captured.py\u001b[0m in \u001b[0;36mdeco\u001b[0;34m(*a, **kw)\u001b[0m\n\u001b[1;32m    183\u001b[0m                 \u001b[0;31m# Hide where the exception came from that shows a non-Pythonic\u001b[0m\u001b[0;34m\u001b[0m\u001b[0;34m\u001b[0m\u001b[0m\n\u001b[1;32m    184\u001b[0m                 \u001b[0;31m# JVM exception message.\u001b[0m\u001b[0;34m\u001b[0m\u001b[0;34m\u001b[0m\u001b[0m\n\u001b[0;32m--> 185\u001b[0;31m                 \u001b[0;32mraise\u001b[0m \u001b[0mconverted\u001b[0m \u001b[0;32mfrom\u001b[0m \u001b[0;32mNone\u001b[0m\u001b[0;34m\u001b[0m\u001b[0;34m\u001b[0m\u001b[0m\n\u001b[0m\u001b[1;32m    186\u001b[0m             \u001b[0;32melse\u001b[0m\u001b[0;34m:\u001b[0m\u001b[0;34m\u001b[0m\u001b[0;34m\u001b[0m\u001b[0m\n\u001b[1;32m    187\u001b[0m                 \u001b[0;32mraise\u001b[0m\u001b[0;34m\u001b[0m\u001b[0;34m\u001b[0m\u001b[0m\n",
      "\u001b[0;31mAnalysisException\u001b[0m: [TABLE_OR_VIEW_NOT_FOUND] The table or view `tips` cannot be found. Verify the spelling and correctness of the schema and catalog.\nIf you did not qualify the name with a schema, verify the current_schema() output, or qualify the name with the correct schema and catalog.\nTo tolerate the error on drop use DROP VIEW IF EXISTS or DROP TABLE IF EXISTS.; line 1 pos 32;\n'UnresolvedHaving 'day IN (Sun,Thur)\n+- 'Aggregate ['day], ['day, unresolvedalias('avg('total_bill), None)]\n   +- 'UnresolvedRelation [tips], [], false\n"
     ]
    }
   ],
   "source": [
    "spark.sql(\"select day,avg(total_bill) from tips group by day having day in('Sun','Thur')\").show()"
   ]
  },
  {
   "cell_type": "code",
   "execution_count": null,
   "id": "y1WQfDORGLtL",
   "metadata": {
    "colab": {
     "base_uri": "https://localhost:8080/"
    },
    "id": "y1WQfDORGLtL",
    "outputId": "4970ac0b-8917-408b-a03d-a51e8c88d1c2"
   },
   "outputs": [
    {
     "data": {
      "text/plain": [
       "True"
      ]
     },
     "execution_count": 46,
     "metadata": {},
     "output_type": "execute_result"
    }
   ],
   "source": [
    "spark.catalog.dropTempView(\"tips\")"
   ]
  }
 ],
 "metadata": {
  "colab": {
   "provenance": []
  },
  "kernelspec": {
   "display_name": "Python 3 (ipykernel)",
   "language": "python",
   "name": "python3"
  },
  "language_info": {
   "codemirror_mode": {
    "name": "ipython",
    "version": 3
   },
   "file_extension": ".py",
   "mimetype": "text/x-python",
   "name": "python",
   "nbconvert_exporter": "python",
   "pygments_lexer": "ipython3",
   "version": "3.11.3"
  }
 },
 "nbformat": 4,
 "nbformat_minor": 5
}
